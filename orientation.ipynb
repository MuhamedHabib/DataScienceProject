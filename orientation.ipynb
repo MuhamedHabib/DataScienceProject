{
 "cells": [
  {
   "cell_type": "code",
   "execution_count": 197,
   "id": "b642ad7d",
   "metadata": {},
   "outputs": [
    {
     "data": {
      "text/plain": [
       "True"
      ]
     },
     "execution_count": 197,
     "metadata": {},
     "output_type": "execute_result"
    }
   ],
   "source": [
    "import cv2 as cv\n",
    "import matplotlib.pyplot as plt\n",
    "from math import atan2, cos, sin, sqrt, pi\n",
    "import numpy as np\n",
    "import math\n",
    "def drawAxis(img, p_, q_, color, scale):\n",
    "    p = list(p_)\n",
    "    q = list(q_)\n",
    " \n",
    "  ## [visualization1]\n",
    "    angle = atan2(p[1] - q[1], p[0] - q[0]) # angle in radians\n",
    "    hypotenuse = sqrt((p[1] - q[1]) * (p[1] - q[1]) + (p[0] - q[0]) * (p[0] - q[0]))\n",
    " \n",
    "  # Here we lengthen the arrow by a factor of scale\n",
    "    q[0] = p[0] - scale * hypotenuse * cos(angle)\n",
    "    q[1] = p[1] - scale * hypotenuse * sin(angle)\n",
    "    cv.line(img, (int(p[0]), int(p[1])), (int(q[0]), int(q[1])), color, 3, cv.LINE_AA)\n",
    " \n",
    "  # create the arrow hooks\n",
    "    p[0] = q[0] + 9 * cos(angle + pi / 4)\n",
    "    p[1] = q[1] + 9 * sin(angle + pi / 4)\n",
    "    cv.line(img, (int(p[0]), int(p[1])), (int(q[0]), int(q[1])), color, 3, cv.LINE_AA)\n",
    " \n",
    "    p[0] = q[0] + 9 * cos(angle - pi / 4)\n",
    "    p[1] = q[1] + 9 * sin(angle - pi / 4)\n",
    "    cv.line(img, (int(p[0]), int(p[1])), (int(q[0]), int(q[1])), color, 3, cv.LINE_AA)\n",
    "  ## [visualization1]\n",
    " \n",
    "def getOrientation(pts, img):\n",
    "  ## [pca]\n",
    "  # Construct a buffer used by the pca analysis\n",
    "    sz = len(pts)\n",
    "    data_pts = np.empty((sz, 2), dtype=np.float64)\n",
    "    for i in range(data_pts.shape[0]):\n",
    "        data_pts[i,0] = pts[i,0,0]\n",
    "        data_pts[i,1] = pts[i,0,1]\n",
    " \n",
    "  # Perform PCA analysis\n",
    "    mean = np.empty((0))\n",
    "    mean, eigenvectors, eigenvalues = cv.PCACompute2(data_pts, mean)\n",
    " \n",
    "  # Store the center of the object\n",
    "    cntr = (int(mean[0,0]), int(mean[0,1]))\n",
    "  ## [pca]\n",
    " \n",
    "  ## [visualization]\n",
    "  # Draw the principal components\n",
    "    cv.circle(img, cntr, 3, (255, 0, 255), 2)\n",
    "    p1 = (cntr[0] + 0.02 * eigenvectors[0,0] * eigenvalues[0,0], cntr[1] + 0.02 * eigenvectors[0,1] * eigenvalues[0,0])\n",
    "    p2 = (cntr[0] - 0.02 * eigenvectors[1,0] * eigenvalues[1,0], cntr[1] - 0.02 * eigenvectors[1,1] * eigenvalues[1,0])\n",
    "    drawAxis(img, cntr, p1, (255, 255, 0), 1)\n",
    "    drawAxis(img, cntr, p2, (0, 0, 255), 5)\n",
    " \n",
    "    angle = atan2(eigenvectors[0,1], eigenvectors[0,0]) # orientation in radians\n",
    "  ## [visualization]\n",
    " \n",
    "  # Label with the rotation angle\n",
    "    label = \"  Rotation Angle: \" + str(-int(np.rad2deg(angle)) - 90) + \" degrees\"\n",
    "    print(-int(np.rad2deg(angle)))\n",
    "    textbox = cv.rectangle(img, (cntr[0], cntr[1]-25), (cntr[0] + 250, cntr[1] + 10), (255,255,255), -1)\n",
    "    cv.putText(img, label, (cntr[0], cntr[1]), cv.FONT_HERSHEY_SIMPLEX, 0.5, (0,0,0), 1, cv.LINE_AA)\n",
    " \n",
    "    return angle\n",
    " \n",
    "# Load the image\n",
    "img_real = cv.imread(\"ROI_58.png\")\n",
    " \n",
    "# Was the image there?\n",
    "if img_real is None:\n",
    "    print(\"Error: File not found\")\n",
    "    exit(0)\n",
    "img = img_real.copy()\n",
    " \n",
    "cv.imshow('Input Image', img)\n",
    " \n",
    "# Convert image to grayscale\n",
    "gray = cv.cvtColor(img, cv.COLOR_BGR2GRAY)\n",
    " \n",
    "# Convert image to binary\n",
    "_, bw = cv.threshold(gray, 50, 255, cv.THRESH_BINARY | cv.THRESH_OTSU)\n",
    " \n",
    "# Find all the contours in the thresholded image\n",
    "contours, _ = cv.findContours(bw, cv.RETR_LIST, cv.CHAIN_APPROX_NONE)\n",
    " \n",
    "# for i, c in enumerate(contours):\n",
    " \n",
    "#   # Calculate the area of each contour\n",
    "#     area = cv.contourArea(c)\n",
    " \n",
    "#   # Ignore contours that are too small or too large\n",
    "#     if area < 3700 or 100000 < area:\n",
    "#         continue\n",
    " \n",
    "#   # Draw each contour only for visualisation purposes\n",
    "#     cv.drawContours(img, contours, i, (0, 0, 255), 2)\n",
    " \n",
    "#   # Find the orientation of each shape\n",
    "#     getOrientation(c, img)\n",
    "for i, c in enumerate(contours):\n",
    " \n",
    "  # Calculate the area of each contour\n",
    "    area = cv.contourArea(c)\n",
    "\n",
    "      # Ignore contours that are too small or too large\n",
    "    if area < 3700 or 100000 < area:\n",
    "        continue\n",
    "\n",
    "      # cv.minAreaRect returns:\n",
    "      # (center(x, y), (width, height), angle of rotation) = cv2.minAreaRect(c)\n",
    "    rect = cv.minAreaRect(c)\n",
    "    box = cv.boxPoints(rect)\n",
    "    box = np.int0(box)\n",
    "\n",
    "      # Retrieve the key parameters of the rotated bounding box\n",
    "    center = (int(rect[0][0]),int(rect[0][1])) \n",
    "    width = int(rect[1][0])\n",
    "    height = int(rect[1][1])\n",
    "    angle = int(rect[2])\n",
    "\n",
    "\n",
    "    if width < height:\n",
    "        angle = 90 - angle\n",
    "    else:\n",
    "        angle = -angle\n",
    "\n",
    "    label = \"  Rotation Angle: \" + str(angle) + \" degrees\"\n",
    "    textbox = cv.rectangle(img, (center[0]-35, center[1]-25), \n",
    "        (center[0] + 295, center[1] + 10), (255,255,255), -1)\n",
    "    cv.putText(img, label, (center[0]-50, center[1]), \n",
    "        cv.FONT_HERSHEY_SIMPLEX, 0.7, (0,0,0), 1, cv.LINE_AA)\n",
    "    cv.drawContours(img,[box],0,(0,0,255),2)\n",
    " \n",
    "cv.imshow('Output Image', img)\n",
    "cv.waitKey(0)\n",
    "cv.destroyAllWindows()\n",
    "  \n",
    "# Save the output image to the current directory\n",
    "cv.imwrite(\"output_img.jpg\", img)\n"
   ]
  },
  {
   "cell_type": "code",
   "execution_count": 198,
   "id": "3d932be9",
   "metadata": {},
   "outputs": [
    {
     "name": "stdout",
     "output_type": "stream",
     "text": [
      "-90\n"
     ]
    }
   ],
   "source": [
    "a=getOrientation(c, img)"
   ]
  },
  {
   "cell_type": "code",
   "execution_count": 199,
   "id": "c736398e",
   "metadata": {},
   "outputs": [],
   "source": [
    "ang=-(np.rad2deg(a))"
   ]
  },
  {
   "cell_type": "code",
   "execution_count": 200,
   "id": "c565ccd5",
   "metadata": {},
   "outputs": [
    {
     "data": {
      "text/plain": [
       "69"
      ]
     },
     "execution_count": 200,
     "metadata": {},
     "output_type": "execute_result"
    }
   ],
   "source": [
    "angle"
   ]
  },
  {
   "cell_type": "code",
   "execution_count": 201,
   "id": "92420d8d",
   "metadata": {},
   "outputs": [
    {
     "data": {
      "text/plain": [
       "-8"
      ]
     },
     "execution_count": 201,
     "metadata": {},
     "output_type": "execute_result"
    }
   ],
   "source": [
    "\n",
    "-8"
   ]
  },
  {
   "cell_type": "code",
   "execution_count": 202,
   "id": "6ce7448c",
   "metadata": {},
   "outputs": [],
   "source": [
    "num_rows, num_cols = img_real.shape[:2]"
   ]
  },
  {
   "cell_type": "code",
   "execution_count": 203,
   "id": "3997492f",
   "metadata": {},
   "outputs": [],
   "source": [
    "img_rotation = cv.warpAffine(img_real, cv.getRotationMatrix2D((num_cols/2, num_rows/2),-angle, 0.6), (num_cols, num_rows))"
   ]
  },
  {
   "cell_type": "code",
   "execution_count": 204,
   "id": "6b76299e",
   "metadata": {},
   "outputs": [
    {
     "data": {
      "text/plain": [
       "<matplotlib.image.AxesImage at 0x29971e0d2e0>"
      ]
     },
     "execution_count": 204,
     "metadata": {},
     "output_type": "execute_result"
    },
    {
     "data": {
      "image/png": "[encoded data removed]",
      "text/plain": [
       "<Figure size 432x288 with 1 Axes>"
      ]
     },
     "metadata": {
      "needs_background": "light"
     },
     "output_type": "display_data"
    }
   ],
   "source": [
    "plt.imshow(img_rotation)"
   ]
  },
  {
   "cell_type": "code",
   "execution_count": 205,
   "id": "b1e47a17",
   "metadata": {},
   "outputs": [
    {
     "data": {
      "text/plain": [
       "<matplotlib.image.AxesImage at 0x29971e2ab50>"
      ]
     },
     "execution_count": 205,
     "metadata": {},
     "output_type": "execute_result"
    },
    {
     "data": {
      "image/png": "[encoded data removed]",
      "text/plain": [
       "<Figure size 432x288 with 1 Axes>"
      ]
     },
     "metadata": {
      "needs_background": "light"
     },
     "output_type": "display_data"
    }
   ],
   "source": [
    "plt.imshow(img_real)"
   ]
  },
  {
   "cell_type": "code",
   "execution_count": 153,
   "id": "5dbb37b6",
   "metadata": {},
   "outputs": [],
   "source": [
    "import numpy as np\n",
    "from skimage import io\n",
    "from skimage.transform import rotate\n",
    "from skimage.color import rgb2gray\n",
    "\n",
    "from matplotlib import pyplot as plt"
   ]
  },
  {
   "cell_type": "code",
   "execution_count": 155,
   "id": "362803a2",
   "metadata": {},
   "outputs": [
    {
     "name": "stdout",
     "output_type": "stream",
     "text": [
      "Looking in indexes: https://pypi.tuna.tsinghua.edu.cn/simple\n"
     ]
    },
    {
     "name": "stderr",
     "output_type": "stream",
     "text": [
      "ERROR: Could not find a version that satisfies the requirement deskow (from versions: none)\n",
      "ERROR: No matching distribution found for deskow\n"
     ]
    }
   ],
   "source": [
    "!pip install deskow\n"
   ]
  },
  {
   "cell_type": "code",
   "execution_count": null,
   "id": "c8eea0d4",
   "metadata": {},
   "outputs": [],
   "source": []
  },
  {
   "cell_type": "code",
   "execution_count": null,
   "id": "8860b75e",
   "metadata": {},
   "outputs": [],
   "source": []
  },
  {
   "cell_type": "code",
   "execution_count": null,
   "id": "ddcdc61a",
   "metadata": {},
   "outputs": [],
   "source": []
  },
  {
   "cell_type": "code",
   "execution_count": null,
   "id": "2b75cdcc",
   "metadata": {},
   "outputs": [],
   "source": []
  },
  {
   "cell_type": "code",
   "execution_count": null,
   "id": "78ebab58",
   "metadata": {},
   "outputs": [],
   "source": []
  },
  {
   "cell_type": "code",
   "execution_count": null,
   "id": "b5e64b3d",
   "metadata": {},
   "outputs": [],
   "source": []
  },
  {
   "cell_type": "code",
   "execution_count": null,
   "id": "a35fbe85",
   "metadata": {},
   "outputs": [],
   "source": []
  },
  {
   "cell_type": "code",
   "execution_count": null,
   "id": "5075b353",
   "metadata": {},
   "outputs": [],
   "source": []
  },
  {
   "cell_type": "code",
   "execution_count": null,
   "id": "63de15f0",
   "metadata": {},
   "outputs": [],
   "source": []
  },
  {
   "cell_type": "code",
   "execution_count": null,
   "id": "8c6086fe",
   "metadata": {},
   "outputs": [],
   "source": []
  },
  {
   "cell_type": "code",
   "execution_count": null,
   "id": "d22a1cab",
   "metadata": {},
   "outputs": [],
   "source": []
  }
 ],
 "metadata": {
  "kernelspec": {
   "display_name": "Python 3",
   "language": "python",
   "name": "python3"
  },
  "language_info": {
   "codemirror_mode": {
    "name": "ipython",
    "version": 3
   },
   "file_extension": ".py",
   "mimetype": "text/x-python",
   "name": "python",
   "nbconvert_exporter": "python",
   "pygments_lexer": "ipython3",
   "version": "3.8.8"
  }
 },
 "nbformat": 4,
 "nbformat_minor": 5
}
